{
 "cells": [
  {
   "cell_type": "code",
   "execution_count": 6,
   "id": "03f297bc",
   "metadata": {},
   "outputs": [
    {
     "name": "stdout",
     "output_type": "stream",
     "text": [
      "enter number:456567\n",
      "765654\n"
     ]
    }
   ],
   "source": [
    "# Extraction of digits\n",
    "\n",
    "def extract_digit(number):\n",
    "    remaining_value = number\n",
    "    while remaining_value>0:\n",
    "        digit = remaining_value % 10\n",
    "        remaining_value = remaining_value // 10\n",
    "        print(digit, end='')\n",
    "    print()\n",
    "\n",
    "extract_digit(int(input('enter number:')))"
   ]
  },
  {
   "cell_type": "code",
   "execution_count": 7,
   "id": "ecbb45e6",
   "metadata": {},
   "outputs": [
    {
     "name": "stdout",
     "output_type": "stream",
     "text": [
      "321\n"
     ]
    }
   ],
   "source": [
    "# using the built-in function divmod() which return\n",
    "# both the divisor and the remainder as a result\n",
    "def extract_digit(number):\n",
    "    remaining_value = number\n",
    "    while remaining_value>0:\n",
    "        remaining_value, digit = divmod(remaining_value, 10)\n",
    "        print(digit, end='')\n",
    "    print()\n",
    "extract_digit(123)"
   ]
  },
  {
   "cell_type": "code",
   "execution_count": 8,
   "id": "fe02803b",
   "metadata": {},
   "outputs": [
    {
     "data": {
      "text/plain": [
       "6"
      ]
     },
     "execution_count": 8,
     "metadata": {},
     "output_type": "execute_result"
    }
   ],
   "source": [
    "# determine number of digits\n",
    "def count_digits(number):\n",
    "    remaining_value = number\n",
    "    count = 0\n",
    "    while remaining_value > 0:\n",
    "        remaining_value = remaining_value // 10\n",
    "        count +=1\n",
    "    return count\n",
    "\n",
    "count_digits(776677)"
   ]
  },
  {
   "cell_type": "code",
   "execution_count": 13,
   "id": "60c72cf7",
   "metadata": {},
   "outputs": [
    {
     "data": {
      "text/plain": [
       "[1, 2, 3, 4, 6]"
      ]
     },
     "execution_count": 13,
     "metadata": {},
     "output_type": "execute_result"
    }
   ],
   "source": [
    "# find the real divisors of a number\n",
    "def find_proper_devisors(value):\n",
    "    return [i for i in range(1, value // 2+1) if value % i == 0]\n",
    "\n",
    "find_proper_devisors(12)"
   ]
  },
  {
   "cell_type": "code",
   "execution_count": null,
   "id": "d78a6dca",
   "metadata": {},
   "outputs": [],
   "source": []
  }
 ],
 "metadata": {
  "kernelspec": {
   "display_name": "Python 3 (ipykernel)",
   "language": "python",
   "name": "python3"
  },
  "language_info": {
   "codemirror_mode": {
    "name": "ipython",
    "version": 3
   },
   "file_extension": ".py",
   "mimetype": "text/x-python",
   "name": "python",
   "nbconvert_exporter": "python",
   "pygments_lexer": "ipython3",
   "version": "3.9.12"
  }
 },
 "nbformat": 4,
 "nbformat_minor": 5
}
