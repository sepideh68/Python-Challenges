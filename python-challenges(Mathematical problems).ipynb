{
 "cells": [
  {
   "cell_type": "markdown",
   "id": "840e967f",
   "metadata": {},
   "source": [
    "### Mathematical problems\n",
    "\n",
    "in this notebook you will find some basics about a few mathematical operations.<br>\n",
    "Reference: Pathon Challenges by Michael Inden"
   ]
  },
  {
   "cell_type": "code",
   "execution_count": 6,
   "id": "5cb15860",
   "metadata": {},
   "outputs": [
    {
     "name": "stdout",
     "output_type": "stream",
     "text": [
      "enter number:456567\n",
      "765654\n"
     ]
    }
   ],
   "source": [
    "# Extraction of digits\n",
    "\n",
    "def extract_digit(number):\n",
    "    remaining_value = number\n",
    "    while remaining_value>0:\n",
    "        digit = remaining_value % 10\n",
    "        remaining_value = remaining_value // 10\n",
    "        print(digit, end='')\n",
    "    print()\n",
    "\n",
    "extract_digit(int(input('enter number:')))"
   ]
  },
  {
   "cell_type": "code",
   "execution_count": 7,
   "id": "5f935ac1",
   "metadata": {},
   "outputs": [
    {
     "name": "stdout",
     "output_type": "stream",
     "text": [
      "321\n"
     ]
    }
   ],
   "source": [
    "# using the built-in function divmod() which return\n",
    "# both the divisor and the remainder as a result\n",
    "def extract_digit(number):\n",
    "    remaining_value = number\n",
    "    while remaining_value>0:\n",
    "        remaining_value, digit = divmod(remaining_value, 10)\n",
    "        print(digit, end='')\n",
    "    print()\n",
    "extract_digit(123)"
   ]
  },
  {
   "cell_type": "code",
   "execution_count": 8,
   "id": "6ff2d2ab",
   "metadata": {},
   "outputs": [
    {
     "data": {
      "text/plain": [
       "6"
      ]
     },
     "execution_count": 8,
     "metadata": {},
     "output_type": "execute_result"
    }
   ],
   "source": [
    "# determine number of digits\n",
    "def count_digits(number):\n",
    "    remaining_value = number\n",
    "    count = 0\n",
    "    while remaining_value > 0:\n",
    "        remaining_value = remaining_value // 10\n",
    "        count +=1\n",
    "    return count\n",
    "\n",
    "count_digits(776677)"
   ]
  },
  {
   "cell_type": "code",
   "execution_count": 13,
   "id": "ba6a59fc",
   "metadata": {},
   "outputs": [
    {
     "data": {
      "text/plain": [
       "[1, 2, 3, 4, 6]"
      ]
     },
     "execution_count": 13,
     "metadata": {},
     "output_type": "execute_result"
    }
   ],
   "source": [
    "# find the real divisors of a number\n",
    "def find_proper_devisors(value):\n",
    "    return [i for i in range(1, value // 2+1) if value % i == 0]\n",
    "\n",
    "find_proper_devisors(12)"
   ]
  },
  {
   "cell_type": "markdown",
   "id": "17807b8b",
   "metadata": {},
   "source": [
    "### Brute Force algorithm for prime numbers"
   ]
  },
  {
   "cell_type": "code",
   "execution_count": 14,
   "id": "959b9e8b",
   "metadata": {},
   "outputs": [
    {
     "name": "stdout",
     "output_type": "stream",
     "text": [
      "[2, 3, 5, 7, 11, 13, 17, 19, 23]\n"
     ]
    }
   ],
   "source": [
    "def is_prime(potentially_prime):\n",
    "    for i in range(2, potentially_prime // 2+1):\n",
    "        if potentially_prime % i == 0:\n",
    "            return False\n",
    "    return True\n",
    "\n",
    "primes = [number for number in range(2,25) if is_prime(number)]\n",
    "print(primes)"
   ]
  },
  {
   "cell_type": "markdown",
   "id": "ae933db6",
   "metadata": {},
   "source": [
    "### Optimization: Sieve of Eratosthenes\n",
    "Another algorithm for determining prime numbers up to a given maximum value is called the Seive of Eratosthenes.\n",
    "The whole thing works as follows. All numbers are initially considered as potential candidates for prime numbers. now the numbers that cannot be prime numbers are eliminated step by step. the smallest unmarked number is taken, in this case, the number 2, which corresponds to the first prime number."
   ]
  },
  {
   "cell_type": "markdown",
   "id": "1ed3239c",
   "metadata": {},
   "source": [
    "### Roman Numbers\n",
    "Roman number$\\;\\;\\;\\;$I$\\;\\;\\;\\;\\;\\;$V$\\;\\;\\;\\;\\;\\;$X$\\;\\;\\;\\;\\;\\;\\;$L$\\;\\;\\;\\;\\;\\;$C$\\;\\;\\;\\;\\;\\;\\;$D$\\;\\;\\;\\;\\;\\;\\;\\;$M<br>\n",
    "Value$\\;\\;\\;\\;\\;\\;\\;\\;\\;\\;\\;\\;\\;\\;\\;\\;$1$\\;\\;\\;\\;\\;\\;$5$\\;\\;\\;\\;\\;$10$\\;\\;\\;\\;\\;\\;$50$\\;\\;\\;\\;$100$\\;\\;\\;\\;\\;$500$\\;\\;\\;\\;$ 1000\n",
    "\n",
    "** interestingly the value 0 does not exist in Roman numerals.\n",
    "1. Addition rule: the same digits next to each other are added, for example XXX = 30. Likewise, this applies to smaller digits after larger ones, so XII = 12.\n",
    "2. Repetition rule: No more than three identical digits may follow each other. According to rule 1, you could write the number 4 as IIII, which this rule 2 forbids. This is where the substraction rule comes into play.\n",
    "3. Substraction rule: If a smaller nummber symbol apear in front of a larger one, the corresponding value is subtracted. Let's look again at 4. It can be represented as 5-1. this is expressed as IV in the Roman numeral system.\n"
   ]
  },
  {
   "cell_type": "markdown",
   "id": "e4f70596",
   "metadata": {},
   "source": [
    "### Perfect Numbers\n",
    "\n",
    "By definition, a number is called a perfect number if its value is equal to the sum of its real divisors. Let's consider number 6. It possesses as real divisors the number 1,2,3. <br>\n",
    "$\\;\\;\\;\\;\\;\\;\\;\\;\\;\\;\\;\\;\\;\\;\\;\\;\\;\\;\\;\\;\\;\\;\\;\\;\\;\\;\\;$1+2+3=6 <br>\n",
    "Let's look at another number: the number 20, which has the real divisors 1,2,4,5,10. but the sum is 22 not 20.\n",
    "$\\;\\;\\;\\;\\;\\;\\;\\;\\;\\;\\;\\;\\;\\;\\;\\;\\;\\;\\;\\;\\;\\;\\;\\;\\;\\;\\;$1+2+4+5+10=22"
   ]
  },
  {
   "cell_type": "markdown",
   "id": "88c81d80",
   "metadata": {},
   "source": [
    "### Armstrong Numbers\n",
    "\n",
    "These are numbers whose indivisual digits are first exponential by the number of digits in the number and then added together.If this sum then corresponds to the original number's value, it is calles an Armstrong number.<br>\n",
    "$\\;\\;\\;\\;\\;\\;\\;\\;\\;\\;\\;\\;\\;\\;\\;\\;\\;\\;\\;\\;\\;\\;\\;\\;\\;\\;\\;$x$*$100+y$*$10+z = x^3 + y^3 + z^3<br>\n",
    "for example: <br>\n",
    "$\\;\\;\\;\\;\\;\\;\\;\\;\\;\\;\\;\\;\\;\\;\\;\\;\\;\\;\\;\\;\\;\\;\\;\\;\\;\\;\\;$ 153 = 1$*$100+5$*$10+3 = 1^3+5^3+3^3 = 1+125+27 = 153"
   ]
  },
  {
   "cell_type": "markdown",
   "id": "d5302d6c",
   "metadata": {},
   "source": [
    "### Checksum\n",
    "A checksum is coded into various numbers so that it is easy to prove validity. This applies. for example, to credit card numbers and to data transfer via special protocols. Let's assume that a checksum has to be calculated for a number with four digits. Then you can perform the following calculation based on the position: <br>\n",
    "$\\;\\;\\;\\;\\;\\;\\;\\;\\;\\;$ abcd --> (a$*$1 + b$*$2 + c$*$3 + d$*$4)%10 <br>\n"
   ]
  },
  {
   "cell_type": "code",
   "execution_count": null,
   "id": "eb9f90ab",
   "metadata": {},
   "outputs": [],
   "source": []
  }
 ],
 "metadata": {
  "kernelspec": {
   "display_name": "Python 3 (ipykernel)",
   "language": "python",
   "name": "python3"
  },
  "language_info": {
   "codemirror_mode": {
    "name": "ipython",
    "version": 3
   },
   "file_extension": ".py",
   "mimetype": "text/x-python",
   "name": "python",
   "nbconvert_exporter": "python",
   "pygments_lexer": "ipython3",
   "version": "3.9.12"
  }
 },
 "nbformat": 4,
 "nbformat_minor": 5
}
